{
 "cells": [
  {
   "cell_type": "markdown",
   "metadata": {},
   "source": [
    "# Bayesian Networks in ai-Python"
   ]
  },
  {
   "cell_type": "markdown",
   "metadata": {},
   "source": [
    "#### E1) Optain a copy of aipython:\n",
    "\n",
    "Download the latest version (0.9.13) of aipython from \n",
    "    https://artint.info/AIPython/\n",
    "    \n",
    "This library (provided as a zip-file) contains all implementation for the book Artificial Intelligence: Foundations of Computational Agents by David L. Poole and Alan K. Mackworth. It is designed to be as simple as possible (not as performant as possible) without large additional libraries etc."
   ]
  },
  {
   "cell_type": "markdown",
   "metadata": {},
   "source": [
    "#### E2) Get familiar with the following Files:\n",
    "- ```variable.py```\n",
    "- ```probFactors.py``` (in particular classes: ```Prob(CPD,TabFactor)``` and ```FactorSum```)\n",
    "- ```probGraphicalModels.py```\n",
    "- ```probVE```\n",
    "\n",
    "by looking into the code and reading the corresponding sections in aipython.pdf (also contained in the zip-file.)"
   ]
  },
  {
   "cell_type": "code",
   "execution_count": 1,
   "metadata": {},
   "outputs": [],
   "source": [
    "import sys\n",
    "sys.path.append(\"aipython\")\n",
    "\n",
    "from variable import Variable\n",
    "from probFactors import Prob\n",
    "from probGraphicalModels import BeliefNetwork, InferenceMethod\n",
    "from probVE import VE\n"
   ]
  },
  {
   "cell_type": "code",
   "execution_count": 2,
   "metadata": {},
   "outputs": [
    {
     "name": "stdout",
     "output_type": "stream",
     "text": [
      "3.14159\n"
     ]
    }
   ],
   "source": [
    "\n",
    "########################################################################################\n",
    "# simple utility functions to simplify life a little\n",
    "########################################################################################\n",
    "\n",
    "# print (lists of) probabilities nicely with a given accuracy\n",
    "def p2s(p, acc=5):\n",
    "    fmt = '%%.%if' % acc\n",
    "    if isinstance(p, float): return fmt % p\n",
    "    if isinstance(p, int):   return fmt % p\n",
    "    if isinstance(p, list):  return \"[\" + (', '.join([p2s(e) for e in p])) + \"]\"\n",
    "\n",
    "print(p2s(3.1415931415926535))\n"
   ]
  },
  {
   "cell_type": "code",
   "execution_count": 3,
   "metadata": {},
   "outputs": [
    {
     "name": "stdout",
     "output_type": "stream",
     "text": [
      "a\n",
      "-a\n",
      "B=3\n"
     ]
    }
   ],
   "source": [
    "# convert a variable name and value into a human-reabable form\n",
    "# this simply converts boolean variables as follows:\n",
    "# Variable = True    ->   \"variable\"\n",
    "# Variable = False   ->  \"-variable\"\n",
    "# Variable = Value   ->  \"Variable=Value\"  otherwise\n",
    "def nv2s(name, value, translate=True):\n",
    "    if translate:\n",
    "        if value == True: return name.lower()\n",
    "        if value == False: return '-' + name.lower()\n",
    "    # if the value is not booleand or should not be translated, just output \n",
    "    return '%s=%s' % (name, value)\n",
    "\n",
    "print(nv2s('A', True))\n",
    "print(nv2s('A', False))\n",
    "print(nv2s('B', 3))"
   ]
  },
  {
   "cell_type": "code",
   "execution_count": 4,
   "metadata": {},
   "outputs": [],
   "source": [
    "\n",
    "# show a query result using the given inference method, query variable and observations\n",
    "# shows a nicely readable version of the output\n",
    "# shows short-hand notation for boolean domains if requested\n",
    "def show_query_result(inference_method, qvar, obs={}, nice_booleans=True, doprint=True):\n",
    "    qvar_name = qvar.name\n",
    "    nice_booleans &= True in qvar.domain\n",
    "    if nice_booleans: qvar_name = qvar_name.lower()\n",
    "\n",
    "    if obs == {}:\n",
    "        qs = \"P(%s)\" % (qvar_name)\n",
    "    else:\n",
    "        qs = \"P(%s | %s)\" % (qvar_name, ', '.join([nv2s(v.name,va,translate=nice_booleans) for (v,va) in obs.items() ]))\n",
    "    inference_method.display(1, \"%s\\nCompute %s ...\" % ('-'*50 ,qs))\n",
    "    r = inference_method.query(qvar, obs)\n",
    "\n",
    "    if nice_booleans:\n",
    "        rs = p2s(r[True])\n",
    "        result = f\"{qs} = {rs}\"\n",
    "    else:\n",
    "        rs = { k:p2s(v)  for (k,v) in r.items() } \n",
    "        result = \"%{qs} = {rs}\"\n",
    "\n",
    "    if doprint:\n",
    "        print(result)\n",
    "    else:\n",
    "        return result, rs\n",
    "\n",
    "\n",
    "########################################################################################\n",
    "# make the method to be available as class-method for variable elimination ...\n",
    "# weird enough that Python allows life patching of classes\n",
    "InferenceMethod.show_query_result = show_query_result\n"
   ]
  },
  {
   "cell_type": "code",
   "execution_count": 5,
   "metadata": {},
   "outputs": [
    {
     "name": "stdout",
     "output_type": "stream",
     "text": [
      "P(fire) = 0.01000\n",
      "P(smoke) = 0.01890\n",
      "P(smoke | fire) = 0.90000\n"
     ]
    },
    {
     "data": {
      "image/png": "[encoded data removed]",
      "text/plain": [
       "<Figure size 640x480 with 1 Axes>"
      ]
     },
     "metadata": {},
     "output_type": "display_data"
    }
   ],
   "source": [
    "########################################################################################\n",
    "# example code ...\n",
    "\n",
    "boolean = [False, True]\n",
    "\n",
    "Fire =    Variable(\"Fire\",    boolean,  position=(0.633,0.9))\n",
    "Smoke =   Variable(\"Smoke\",   boolean,  position=(0.9,0.633))\n",
    "\n",
    "f_fi = Prob(Fire,[],[0.99,0.01])\n",
    "f_sm = Prob(Smoke,[Fire],[[0.99,0.01],[0.1,0.9]])\n",
    "bn = BeliefNetwork(\"SmokeAndFire\", {Fire,Smoke}, {f_fi, f_sm})\n",
    "\n",
    "bn.show()\n",
    "\n",
    "bnve = VE(bn)    # answers queries using variable elimination\n",
    "bnve.max_display_level = 0   # select the amount of information to be shown\n",
    "\n",
    "# show some queries ...\n",
    "bnve.show_query_result(Fire,  {})\n",
    "bnve.show_query_result(Smoke, {})\n",
    "bnve.show_query_result(Smoke,  {Fire:True})\n",
    "\n",
    "\n"
   ]
  },
  {
   "cell_type": "markdown",
   "metadata": {},
   "source": [
    "The following cell shows the CPTs for the two variables Smoke and Fire:"
   ]
  },
  {
   "cell_type": "code",
   "execution_count": 6,
   "metadata": {},
   "outputs": [
    {
     "name": "stdout",
     "output_type": "stream",
     "text": [
      "Fire\tSmoke\tf30\n",
      "False\tFalse\t0.990000\n",
      "False\tTrue\t0.010000\n",
      "True\tFalse\t0.100000\n",
      "True\tTrue\t0.900000\n",
      "\n",
      "Fire\tf29\n",
      "False\t0.990000\n",
      "True\t0.010000\n"
     ]
    }
   ],
   "source": [
    "print(f_sm.to_table()+\"\\n\")\n",
    "print(f_fi.to_table())\n"
   ]
  },
  {
   "cell_type": "markdown",
   "metadata": {},
   "source": [
    "#### E3) Interprete at the output of the following cell!\n"
   ]
  },
  {
   "cell_type": "code",
   "execution_count": 7,
   "metadata": {},
   "outputs": [
    {
     "name": "stdout",
     "output_type": "stream",
     "text": [
      "--------------------------------------------------\n",
      "Compute P(smoke) ...\n",
      "eliminating  Fire\n",
      "Multiplying: ['P(Smoke|Fire)', 'P(Fire)']\n",
      "Creating factor: f35(Smoke)\n",
      "Smoke\tf35\n",
      "False\t0.981100\n",
      "True\t0.018900\n",
      "Unnormalized probs: [0.9811, 0.0189] Prob obs: 1.0\n",
      "P(smoke) = 0.01890\n"
     ]
    }
   ],
   "source": [
    "bnve.max_display_level = 3   # select the amount of information to be shown\n",
    "bnve.show_query_result(Smoke, {})\n"
   ]
  },
  {
   "cell_type": "markdown",
   "metadata": {},
   "source": [
    "#### E4) Compute $P(Smoke=\\top)$ manually as follows:\n",
    "\n",
    "- specify factor $f_1$ to be $P(\\text{Smoke}\\mid\\text{Fire})$\n",
    "- specify factor $f_2$ to be $P(\\text{Fire})$\n",
    "- compute $f_3 = f_1 * f_2$\n",
    "- compute $f_4 = \\sum_F f_3$\n",
    "- compute $f_5 = f_4^\\text{smoke}$\n"
   ]
  },
  {
   "cell_type": "markdown",
   "metadata": {},
   "source": [
    "#### E5) Extend the network to cover the full example from the lecture, i.e., including the RVs Alarm, Leaving, Report, Tamper\n"
   ]
  },
  {
   "cell_type": "code",
   "execution_count": 8,
   "metadata": {},
   "outputs": [],
   "source": [
    "\n",
    "boolean = [False, True]\n",
    "Alarm =   Variable(\"Alarm\",   boolean,  position=(0.366,0.633))\n",
    "Fire =    Variable(\"Fire\",    boolean,  position=(0.633,0.9))\n",
    "Leaving = Variable(\"Leaving\", boolean,  position=(0.366,0.366))\n",
    "Report =  Variable(\"Report\",  boolean,  position=(0.366,0.1))\n",
    "Smoke =   Variable(\"Smoke\",   boolean,  position=(0.9,0.633))\n",
    "Tamper =  Variable(\"Tamper\",  boolean,  position=(0.1,0.9))\n",
    "\n",
    "# to be completed …\n",
    "\n"
   ]
  },
  {
   "cell_type": "markdown",
   "metadata": {},
   "source": [
    "#### E6) Crosscheck your results from T06"
   ]
  },
  {
   "cell_type": "code",
   "execution_count": 9,
   "metadata": {},
   "outputs": [
    {
     "name": "stdout",
     "output_type": "stream",
     "text": [
      "P(fire) = 0.50000\n"
     ]
    }
   ],
   "source": [
    "bnve.max_display_level = 0   # select the amount of information to be shown\n",
    "\n",
    "# Ex T06 8a)\n",
    "bnve.show_query_result(Fire,  {})\n",
    "\n",
    "\n"
   ]
  },
  {
   "cell_type": "markdown",
   "metadata": {},
   "source": [
    "---- \n",
    "# A Simple Diagnostic Network"
   ]
  },
  {
   "cell_type": "code",
   "execution_count": 10,
   "metadata": {},
   "outputs": [
    {
     "data": {
      "image/png": "[encoded data removed]",
      "text/plain": [
       "<Figure size 640x480 with 1 Axes>"
      ]
     },
     "metadata": {},
     "output_type": "display_data"
    }
   ],
   "source": [
    "# Belief network simple-diagnostic example (Exercise 9.3 shown in Figure 9.39) of\n",
    "# Poole and Mackworth, Artificial Intelligence, 2023 http://artint.info\n",
    "\n",
    "Influenza =   Variable(\"Influenza\",   boolean,  position=(0.4,0.8))\n",
    "Smokes =      Variable(\"Smokes\",      boolean,  position=(0.8,0.8))\n",
    "SoreThroat =  Variable(\"Sore Throat\", boolean,  position=(0.2,0.5))\n",
    "Fever =       Variable(\"Fever\",       boolean,  position=(0.4,0.5))\n",
    "Bronchitis =  Variable(\"Bronchitis\",  boolean,  position=(0.6,0.5))\n",
    "Coughing =    Variable(\"Coughing\",    boolean,  position=(0.4,0.2))\n",
    "Wheezing =    Variable(\"Wheezing\",    boolean,  position=(0.8,0.2))\n",
    "\n",
    "p_infl =    Prob(Influenza,[],[0.95,0.05])\n",
    "p_smokes =  Prob(Smokes,[],[0.8,0.2])\n",
    "p_sth =     Prob(SoreThroat,[Influenza],[[0.999,0.001],[0.7,0.3]])\n",
    "p_fever =   Prob(Fever,[Influenza],[[0.99,0.05],[0.9,0.1]])\n",
    "p_bronc =   Prob(Bronchitis,[Influenza,Smokes],[[[0.9999, 0.0001], [0.3, 0.7]], [[0.1, 0.9], [0.01, 0.99]]])\n",
    "p_cough =   Prob(Coughing,[Bronchitis],[[0.93,0.07],[0.2,0.8]])\n",
    "p_wheeze =  Prob(Wheezing,[Bronchitis],[[0.999,0.001],[0.4,0.6]])\n",
    "\n",
    "simple_diagnosis = BeliefNetwork(\"Simple Diagnosis\",\n",
    "                    {Influenza, Smokes, SoreThroat, Fever, Bronchitis, Coughing, Wheezing},\n",
    "                    {p_infl, p_smokes, p_sth, p_fever, p_bronc, p_cough, p_wheeze})\n",
    "\n",
    "simple_diagnosis.show()\n",
    "\n",
    "sdve = VE(simple_diagnosis)    # answers queries using variable elimination\n"
   ]
  },
  {
   "cell_type": "markdown",
   "metadata": {},
   "source": [
    "#### E7) Define interesting queries for this network - Questions you allways had about that domain!"
   ]
  },
  {
   "cell_type": "code",
   "execution_count": 11,
   "metadata": {},
   "outputs": [
    {
     "name": "stdout",
     "output_type": "stream",
     "text": [
      "--------------------------------------------------\n",
      "Compute P(smokes | coughing) ...\n",
      "Unnormalized probs: [0.08446569920000002, 0.12273259999999997] Prob obs: 0.2071982992\n",
      "P(smokes | coughing) = 0.59234\n"
     ]
    }
   ],
   "source": [
    "sdve.show_query_result(Smokes, {Coughing:True})\n",
    "\n",
    "# to be completed "
   ]
  },
  {
   "cell_type": "markdown",
   "metadata": {},
   "source": [
    "#### E8) The posterior probabilities of which variables change when $Smokes$ is observed? \n",
    "That is, for which $X$ is $P(X|smokes) \\ne P(X)$?\n"
   ]
  },
  {
   "cell_type": "code",
   "execution_count": null,
   "metadata": {},
   "outputs": [],
   "source": []
  },
  {
   "cell_type": "markdown",
   "metadata": {},
   "source": [
    "#### E9) Proove $\\text{Influenca} \\perp\\!\\!\\!\\perp \\text{Smokes}$!"
   ]
  },
  {
   "cell_type": "markdown",
   "metadata": {},
   "source": [
    "#### E10) Translate the example to pyAgrum and crosscheck results!"
   ]
  }
 ],
 "metadata": {
  "kernelspec": {
   "display_name": "AI7RuU",
   "language": "python",
   "name": "ai7ruu"
  },
  "language_info": {
   "codemirror_mode": {
    "name": "ipython",
    "version": 3
   },
   "file_extension": ".py",
   "mimetype": "text/x-python",
   "name": "python",
   "nbconvert_exporter": "python",
   "pygments_lexer": "ipython3",
   "version": "3.12.7"
  }
 },
 "nbformat": 4,
 "nbformat_minor": 2
}
