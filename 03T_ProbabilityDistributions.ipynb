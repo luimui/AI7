{
 "cells": [
  {
   "cell_type": "markdown",
   "metadata": {},
   "source": [
    "**(c)** 2024 by *Sebastian Bader*\n",
    "\n",
    "[Mobile Multimedia Information Systems](https://www.mmis.informatik.uni-rostock.de/), \n",
    "[Institute for Visual and Analytic Computing](https://vac.uni-rostock.de/)\n",
    "\n",
    "A Jupyter Notebook as part of the lecture<br/>\n",
    "***AI7 - Reasoning under Uncertainty***\n",
    "\n",
    "---"
   ]
  },
  {
   "cell_type": "markdown",
   "metadata": {},
   "source": [
    "The excercises are structured as follows: \n",
    "\n",
    "You will find numbered tasks below, similar to:\n",
    "#### E1) Give your answer in the following cell!\n",
    "\n",
    "The following cell can be either a `Code`-cell (look in the toolbar above once the cell is selected, also indicated by the `In []` left to the cell. \n",
    "In case of a code-cell, you will have to implement the answer!\n",
    "\n",
    "Alternatively it can be a `raw NBConvert` cell. In this case, I expect a written (natural language) answer, like: "
   ]
  },
  {
   "cell_type": "raw",
   "metadata": {},
   "source": [
    "This is my answer :-)"
   ]
  },
  {
   "cell_type": "markdown",
   "metadata": {},
   "source": [
    "---- \n",
    "\n",
    "# Tutorial 1 - Basic Probabilities in Python\n",
    "\n",
    "But now let's start with the real concent ...\n",
    "\n",
    "... by first importing some useful packages."
   ]
  },
  {
   "cell_type": "code",
   "execution_count": null,
   "metadata": {},
   "outputs": [],
   "source": [
    "import numpy as np\n",
    "import pandas as pd\n",
    "import matplotlib.pyplot as plt"
   ]
  },
  {
   "cell_type": "markdown",
   "metadata": {},
   "source": [
    "# A simple discrete experiment\n",
    "\n",
    "#### E1) Implement the function `dice`!\n",
    "Define a function `dice`, which returns for a given number `n` of dice-throws an numpy array of shape `(n,)`!"
   ]
  },
  {
   "cell_type": "code",
   "execution_count": null,
   "metadata": {},
   "outputs": [],
   "source": [
    "def dice(n):\n",
    "    # TODO: implement the function\n",
    "    return ...\n",
    "\n",
    "print(\"This is the result of 5 dice throws:\", dice(5))"
   ]
  },
  {
   "attachments": {
    "Histgramm1000.png": {
     "image/png": "[encoded data removed]"
    }
   },
   "cell_type": "markdown",
   "metadata": {},
   "source": [
    "After taking 1000 samples, we would like to know how the different outcomes `1...6` are distributed. \n",
    "The simplest way for a visual inspection is to draw a histogram which contains the number of occurences for each of the six outcomes. Such diagrams can be created using https://matplotlib.org\n",
    "\n",
    "#### E2) Create a histogram plot similar to the following:\n",
    "![Histgramm1000.png](attachment:Histgramm1000.png)"
   ]
  },
  {
   "cell_type": "code",
   "execution_count": null,
   "metadata": {},
   "outputs": [],
   "source": [
    "ds = dice(1000)\n",
    "\n",
    "# TODO draw a histogram using matplotlib \n",
    "...\n",
    "\n",
    "plt.show()"
   ]
  },
  {
   "cell_type": "markdown",
   "metadata": {},
   "source": [
    "#### E3) What is the average of all outcomes?\n",
    "\n",
    "A numerical way to characterize a distribution over ordered numerical values, is to compute minimal, maximal and average value of the 1000 outcomes. Please describe what values you expect for minimum, maximum and average!"
   ]
  },
  {
   "cell_type": "raw",
   "metadata": {},
   "source": [
    "I expect the average to be ..."
   ]
  },
  {
   "cell_type": "markdown",
   "metadata": {},
   "source": [
    "#### E4) Now, compute the minimum, maximum and average of all outcomes!"
   ]
  },
  {
   "cell_type": "code",
   "execution_count": null,
   "metadata": {},
   "outputs": [],
   "source": [
    "average = ...  # TODO implement\n",
    "minimum = ...  # TODO implement\n",
    "maximum = ...  # TODO implement\n",
    "\n",
    "print(f\"The average of the {len(ds)} dice throws is {average}, (minimum={minimum}, maximum={maximum})\")"
   ]
  },
  {
   "cell_type": "markdown",
   "metadata": {},
   "source": [
    "#### E5) Lets repeat it again and again!\n",
    "\n",
    "Repeat the above experiment 10000 times. I.e., for each experiment, throw 1000 dices, compute the average and store all those averages in a variable called `means`!"
   ]
  },
  {
   "cell_type": "code",
   "execution_count": null,
   "metadata": {},
   "outputs": [],
   "source": [
    "means = [ ... ] # TODO: implement\n",
    "\n",
    "assert len(means) == 10000"
   ]
  },
  {
   "cell_type": "markdown",
   "metadata": {},
   "source": [
    "#### E6) What do you expect a histogramm of all those means to look like and why? "
   ]
  },
  {
   "cell_type": "raw",
   "metadata": {},
   "source": [
    "I expect the histogram to look like ...\n"
   ]
  },
  {
   "cell_type": "markdown",
   "metadata": {},
   "source": [
    "#### E7) Plot the histogramm using the following command:"
   ]
  },
  {
   "cell_type": "code",
   "execution_count": null,
   "metadata": {},
   "outputs": [],
   "source": [
    "plt.hist(means, bins=21, rwidth=0.9)\n",
    "plt.show()"
   ]
  },
  {
   "cell_type": "markdown",
   "metadata": {},
   "source": [
    "---- \n",
    "\n",
    "# A continuous experiment\n",
    "\n",
    "After looking into a simple discrete distribution, let's move to two important continuous ones ..."
   ]
  },
  {
   "cell_type": "markdown",
   "metadata": {},
   "source": [
    "## Uniform distributions\n",
    "\n",
    "#### E8) Fill the numpy-array `xy` of shape `(100,2)` with uniform floats between `0` and `1`!\n",
    "\n",
    "Check the numpy-documentation at https://numpy.org/doc/stable/reference/random/"
   ]
  },
  {
   "cell_type": "code",
   "execution_count": null,
   "metadata": {},
   "outputs": [],
   "source": [
    "# TODO implement\n",
    "xy = ...\n",
    "\n",
    "# now let's plot it - the dots should be uniformly distributed within the unit-square\n",
    "plt.scatter(xy[:,0], xy[:,1], marker='.')\n",
    "plt.gcf().set_size_inches(5,5)\n",
    "plt.show()"
   ]
  },
  {
   "cell_type": "markdown",
   "metadata": {},
   "source": [
    "`pandas`-dataframes offer simple access to some statistical features.\n",
    "Check the documentation at https://pandas.pydata.org/docs/reference/api/pandas.DataFrame.html\n",
    "Let's convert the numpy array into a dataframe and look at its description."
   ]
  },
  {
   "cell_type": "code",
   "execution_count": null,
   "metadata": {},
   "outputs": [],
   "source": [
    "# convert the array into a dataframe with named columns\n",
    "df=pd.DataFrame(xy, columns=['x', 'y'])\n",
    "\n",
    "df.describe()"
   ]
  },
  {
   "cell_type": "markdown",
   "metadata": {},
   "source": [
    "Now we will add another column to our dataframe called `c` and defined as follows:"
   ]
  },
  {
   "cell_type": "code",
   "execution_count": null,
   "metadata": {},
   "outputs": [],
   "source": [
    "df['c'] = 1.0 * (df.x**2 + df.y**2 < 1)"
   ]
  },
  {
   "cell_type": "markdown",
   "metadata": {},
   "source": [
    "We will now plot it again and use the column `c` as color:"
   ]
  },
  {
   "cell_type": "code",
   "execution_count": null,
   "metadata": {},
   "outputs": [],
   "source": [
    "plt.scatter(df.x, df.y, c=df.c, marker='.', cmap='Paired')\n",
    "plt.gcf().set_size_inches(5,5)\n",
    "plt.show()"
   ]
  },
  {
   "cell_type": "markdown",
   "metadata": {},
   "source": [
    "#### E9) What value do you expect for the average of column `c`? \n",
    "Hint: you can give a really very precise estimate for it! \n",
    "Give your estimate in the following code-cell as `c_average_estimate` and describe your idea afterwards!"
   ]
  },
  {
   "cell_type": "code",
   "execution_count": null,
   "metadata": {},
   "outputs": [],
   "source": [
    "# TODO Specify your estimate!\n",
    "c_average_estimate = ..."
   ]
  },
  {
   "cell_type": "raw",
   "metadata": {},
   "source": [
    "I expect the mean of column c to be ..."
   ]
  },
  {
   "cell_type": "markdown",
   "metadata": {},
   "source": [
    "#### E10) Compute the mean of column `c`! \n",
    "Compute the average using a function of the numpy package!"
   ]
  },
  {
   "cell_type": "code",
   "execution_count": null,
   "metadata": {},
   "outputs": [],
   "source": [
    "# TODO implement\n",
    "c_average = ...\n",
    "\n",
    "print(c_average)"
   ]
  },
  {
   "cell_type": "markdown",
   "metadata": {},
   "source": [
    "Now let's check if you guess was a good one - i.e. within an $\\epsilon = 0.1$ neighbourhood."
   ]
  },
  {
   "cell_type": "code",
   "execution_count": null,
   "metadata": {},
   "outputs": [],
   "source": [
    "if np.isclose(c_average_estimate, c_average, atol=0.1):\n",
    "    print(f\"Your guess of {c_average_estimate} is a good guess for {c_average}!\")\n",
    "else:    \n",
    "    print(f\"Your guess of {c_average_estimate} is NOT a good guess for {c_average}!\")\n"
   ]
  },
  {
   "cell_type": "markdown",
   "metadata": {},
   "source": [
    "---\n",
    "\n",
    "# Density functions and Samping\n",
    "\n",
    "A general interface for probability functions should contain the following two functions:\n",
    "\n",
    "- `pdf(x)`: returns the probability for a given value `x`\n",
    "- `sample()`: returns a sample from the probability distribution\n",
    "\n",
    "This is captured within the following class:"
   ]
  },
  {
   "cell_type": "code",
   "execution_count": null,
   "metadata": {},
   "outputs": [],
   "source": [
    "class PD(object):\n",
    "    def pdf(self, x):\n",
    "        raise NotImplementedError(f\"PDF is not implemented for {self}\")\n",
    "\n",
    "    def sample(self):\n",
    "        raise NotImplementedError(f\"sampling is not implemented for {self}\")\n",
    "\n",
    "    def samples(self, n):\n",
    "        return [ self.sample()  for i in range(n) ]\n"
   ]
  },
  {
   "cell_type": "markdown",
   "metadata": {},
   "source": [
    "#### E11) Implement a simple discrete distribution over a given set of elements.\n",
    "\n",
    "Please implement the sampling using a simple random number generator only. E.g., by using the function `np.random.rand()` which will create a random number within `[0, 1)`."
   ]
  },
  {
   "cell_type": "code",
   "execution_count": null,
   "metadata": {},
   "outputs": [],
   "source": [
    "np.random.rand()"
   ]
  },
  {
   "cell_type": "code",
   "execution_count": null,
   "metadata": {},
   "outputs": [],
   "source": [
    "class DiscreteUniform(PD):\n",
    "    def __init__(self, *elements):\n",
    "        self.elements = elements\n",
    "\n",
    "    def pdf(self, x):\n",
    "        # TODO: implement\n",
    "        raise NotImplementedError(f\"PDF is not implemented for {self}\")\n",
    "\n",
    "    def sample(self):\n",
    "        # TODO: implement\n",
    "        raise NotImplementedError(f\"sampling is not implemented for {self}\")"
   ]
  },
  {
   "cell_type": "markdown",
   "metadata": {},
   "source": [
    "Using this we can instantiate a dice as a discrete distribution over the 6 values:"
   ]
  },
  {
   "cell_type": "code",
   "execution_count": null,
   "metadata": {},
   "outputs": [],
   "source": [
    "dice = DiscreteUniform(1,2,3,4,5,6)"
   ]
  },
  {
   "cell_type": "markdown",
   "metadata": {},
   "source": [
    "And sample 10 values:"
   ]
  },
  {
   "cell_type": "code",
   "execution_count": null,
   "metadata": {},
   "outputs": [],
   "source": [
    "print(dice.samples(10))"
   ]
  },
  {
   "cell_type": "markdown",
   "metadata": {},
   "source": [
    "compute the probability of the value `1`:"
   ]
  },
  {
   "cell_type": "code",
   "execution_count": null,
   "metadata": {},
   "outputs": [],
   "source": [
    "print('P(1) =', dice.pdf(1))"
   ]
  },
  {
   "cell_type": "markdown",
   "metadata": {},
   "source": [
    "compute the probability of an illegal value `42`:"
   ]
  },
  {
   "cell_type": "code",
   "execution_count": null,
   "metadata": {},
   "outputs": [],
   "source": [
    "print('P(42) =', dice.pdf(42))"
   ]
  },
  {
   "cell_type": "markdown",
   "metadata": {},
   "source": [
    "#### E12) Implement a 1-dimensional normal distribution for a given mu and sigma\n",
    "\n",
    "Please check the following page for details: https://en.wikipedia.org/wiki/Normal_distribution\n",
    "\n",
    "Use the https://en.wikipedia.org/wiki/Box–Muller_transform to sample new normal data points based on the function `np.random.rand()`!"
   ]
  },
  {
   "cell_type": "code",
   "execution_count": null,
   "metadata": {},
   "outputs": [],
   "source": [
    "class NormalDistribution1D(PD):\n",
    "    def __init__(self, mu, sigma):\n",
    "        self.mu = mu\n",
    "        self.sigma = sigma\n",
    "\n",
    "    def __str__(self):\n",
    "        return \"$\\mathcal{N}(\\mu={%s}, \\sigma=%s)$\" % (self.mu, self.sigma)\n",
    "        \n",
    "    def pdf(self, x):\n",
    "        # TODO: implement\n",
    "        #raise NotImplementedError(f\"PDF is not implemented for {self}\")\n",
    "\n",
    "    def sample(self):\n",
    "        # TODO: implement\n",
    "        raise NotImplementedError(f\"sampling is not implemented for {self}\")"
   ]
  },
  {
   "cell_type": "markdown",
   "metadata": {},
   "source": [
    "Now, we can use it to plot a Gaussian bell curve:"
   ]
  },
  {
   "cell_type": "code",
   "execution_count": null,
   "metadata": {},
   "outputs": [],
   "source": [
    "mu = 3\n",
    "sigma = 1\n",
    "\n",
    "gd = NormalDistribution1D(mu, sigma)\n",
    "xs = np.linspace(mu-3*sigma, mu+3*sigma, 100)\n",
    "ys = [ gd.pdf(x)  for x in xs   ]\n",
    "\n",
    "plt.plot(xs, ys)\n",
    "plt.axvline(mu)\n",
    "plt.axvline(mu-sigma, ls=':')\n",
    "plt.axvline(mu+sigma, ls=':')\n",
    "plt.title(\"PDF for %s\" % gd)\n",
    "plt.xlabel('$x$')\n",
    "plt.ylabel('$P(x)$')\n",
    "plt.show()"
   ]
  },
  {
   "cell_type": "markdown",
   "metadata": {},
   "source": [
    "---- \n",
    "# Final Questions\n",
    "\n",
    "\n",
    "#### FQ1. How long did it take you to complete the notebook?"
   ]
  },
  {
   "cell_type": "raw",
   "metadata": {},
   "source": [
    "It took me ??? minutes"
   ]
  },
  {
   "cell_type": "markdown",
   "metadata": {},
   "source": [
    "#### FQ2. What do you expect from the lecture AI7 Reasoning under Uncertainty?"
   ]
  },
  {
   "cell_type": "raw",
   "metadata": {},
   "source": [
    "I expect to learn ...\n",
    "\n",
    "I want to solve problems like ...\n",
    "\n",
    "I never understood how ... works."
   ]
  },
  {
   "cell_type": "markdown",
   "metadata": {},
   "source": [
    "#### FQ3. What was the biggest problem in this tutorial?"
   ]
  },
  {
   "cell_type": "raw",
   "metadata": {},
   "source": [
    "My biggest problem was ..."
   ]
  },
  {
   "cell_type": "markdown",
   "metadata": {},
   "source": [
    "#### FQ4. Do you plan to do the exam in AI7 as part of your Complex exam? \n",
    "Simply remove the lines which are not correct for you!"
   ]
  },
  {
   "cell_type": "raw",
   "metadata": {},
   "source": [
    "AI7 will be part of my complex exam.\n",
    "I will take an exam only on AI7 - not as part of the complex exam.\n",
    "I attend the lecture on AI7 just for fun. "
   ]
  },
  {
   "cell_type": "markdown",
   "metadata": {},
   "source": [
    "#### Further comments"
   ]
  },
  {
   "cell_type": "raw",
   "metadata": {},
   "source": [
    "\n",
    "\n",
    "\n",
    "\n",
    "\n",
    "\n"
   ]
  }
 ],
 "metadata": {
  "@webio": {
   "lastCommId": null,
   "lastKernelId": null
  },
  "kernelspec": {
   "display_name": "AI7RuU",
   "language": "python",
   "name": "ai7ruu"
  },
  "language_info": {
   "codemirror_mode": {
    "name": "ipython",
    "version": 3
   },
   "file_extension": ".py",
   "mimetype": "text/x-python",
   "name": "python",
   "nbconvert_exporter": "python",
   "pygments_lexer": "ipython3",
   "version": "3.12.6"
  }
 },
 "nbformat": 4,
 "nbformat_minor": 4
}
